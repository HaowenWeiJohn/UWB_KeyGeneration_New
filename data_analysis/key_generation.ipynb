{
 "cells": [
  {
   "cell_type": "code",
   "execution_count": 1,
   "metadata": {
    "collapsed": true,
    "pycharm": {
     "is_executing": false
    }
   },
   "outputs": [
    {
     "traceback": [
      "Traceback \u001b[1;36m(most recent call last)\u001b[0m:\n",
      "  File \u001b[0;32m\"c:\\users\\ljn\\appdata\\local\\programs\\python\\python36\\lib\\site-packages\\IPython\\core\\interactiveshell.py\"\u001b[0m, line \u001b[0;32m3343\u001b[0m, in \u001b[0;35mrun_code\u001b[0m\n    exec(code_obj, self.user_global_ns, self.user_ns)\n",
      "\u001b[1;36m  File \u001b[1;32m\"<ipython-input-1-3f24a668c70b>\"\u001b[1;36m, line \u001b[1;32m12\u001b[1;36m, in \u001b[1;35m<module>\u001b[1;36m\u001b[0m\n\u001b[1;33m    from algorithm_utils.keyGeneration_utils import *\u001b[0m\n",
      "\u001b[1;36m  File \u001b[1;32m\"C:\\Users\\LJN\\PycharmProjects\\UWB_KeyGeneration_New\\algorithm_utils\\keyGeneration_utils.py\"\u001b[1;36m, line \u001b[1;32m107\u001b[0m\n\u001b[1;33m    mag_max =\u001b[0m\n\u001b[1;37m             ^\u001b[0m\n\u001b[1;31mSyntaxError\u001b[0m\u001b[1;31m:\u001b[0m invalid syntax\n"
     ],
     "ename": "SyntaxError",
     "evalue": "invalid syntax (keyGeneration_utils.py, line 107)",
     "output_type": "error"
    }
   ],
   "source": [
    "import serial\n",
    "import numpy as np\n",
    "from struct import *\n",
    "import os\n",
    "#  we are reading distance information from anchor\n",
    "from uwb_utils.DecaUWB_interface import UWBSensorInterface\n",
    "import time\n",
    "import csv\n",
    "import pandas as pd\n",
    "from collections import deque\n",
    "from matplotlib import pyplot as plt\n",
    "from algorithm_utils.keyGeneration_utils import *"
   ]
  },
  {
   "cell_type": "code",
   "execution_count": null,
   "outputs": [],
   "source": [
    "anchor_2_los = np.array(pd.read_csv('../data_collection/2m_Anchor_living_LOS.csv')[['time_stamp', 'mag']])[50*65 : ,:][::2]\n",
    "anchor_3_los = np.array(pd.read_csv('../data_collection/3m_Anchor_living_LOS.csv')[['time_stamp', 'mag']])[50*65 : ,:][::2]\n",
    "anchor_4_los = np.array(pd.read_csv('../data_collection/4m_Anchor_living_LOS.csv')[['time_stamp', 'mag']])[50*65 : ,:][::2]\n",
    "anchor_5_los = np.array(pd.read_csv('../data_collection/5m_Anchor_living_LOS.csv')[['time_stamp', 'mag']])[50*65 : ,:][::2]\n",
    "\n",
    "anchor_2_los = cir_group_generation(anchor_2_los)\n",
    "anchor_3_los = cir_group_generation(anchor_3_los)\n",
    "anchor_4_los = cir_group_generation(anchor_4_los)\n",
    "anchor_5_los = cir_group_generation(anchor_5_los)\n",
    "\n",
    "\n"
   ],
   "metadata": {
    "collapsed": false,
    "pycharm": {
     "name": "#%%\n",
     "is_executing": false
    }
   }
  },
  {
   "cell_type": "code",
   "execution_count": null,
   "outputs": [],
   "source": [
    "tag_2_los = np.array(pd.read_csv('../data_collection/2m_Tag_living_LOS.csv')[['time_stamp', 'mag']])[25*65 : 525*65,:]\n",
    "tag_3_los = np.array(pd.read_csv('../data_collection/3m_Tag_living_LOS.csv')[['time_stamp', 'mag']])[25*65 : 525*65,:]\n",
    "tag_4_los = np.array(pd.read_csv('../data_collection/4m_Tag_living_LOS.csv')[['time_stamp', 'mag']])[25*65 : 525*65,:]\n",
    "tag_5_los = np.array(pd.read_csv('../data_collection/5m_Tag_living_LOS.csv')[['time_stamp', 'mag']])[25*65 : 525*65,:]\n",
    "\n"
   ],
   "metadata": {
    "collapsed": false,
    "pycharm": {
     "name": "#%%\n",
     "is_executing": false
    }
   }
  },
  {
   "cell_type": "code",
   "execution_count": null,
   "outputs": [],
   "source": [
    "# cirs for each distance\n",
    "\n"
   ],
   "metadata": {
    "collapsed": false,
    "pycharm": {
     "name": "#%%\n",
     "is_executing": false
    }
   }
  },
  {
   "cell_type": "code",
   "execution_count": null,
   "outputs": [],
   "source": [
    "\n",
    "\n"
   ],
   "metadata": {
    "collapsed": false,
    "pycharm": {
     "name": "#%%\n",
     "is_executing": false
    }
   }
  },
  {
   "cell_type": "code",
   "execution_count": null,
   "outputs": [],
   "source": [],
   "metadata": {
    "collapsed": false,
    "pycharm": {
     "name": "#%%\n",
     "is_executing": false
    }
   }
  },
  {
   "cell_type": "code",
   "execution_count": null,
   "outputs": [],
   "source": [],
   "metadata": {
    "collapsed": false,
    "pycharm": {
     "name": "#%%\n",
     "is_executing": false
    }
   }
  },
  {
   "cell_type": "code",
   "execution_count": null,
   "outputs": [],
   "source": [],
   "metadata": {
    "collapsed": false,
    "pycharm": {
     "name": "#%%\n",
     "is_executing": false
    }
   }
  },
  {
   "cell_type": "code",
   "execution_count": null,
   "outputs": [],
   "source": [],
   "metadata": {
    "collapsed": false,
    "pycharm": {
     "name": "#%%\n",
     "is_executing": false
    }
   }
  },
  {
   "cell_type": "code",
   "execution_count": null,
   "outputs": [],
   "source": [],
   "metadata": {
    "collapsed": false,
    "pycharm": {
     "name": "#%%\n",
     "is_executing": false
    }
   }
  },
  {
   "cell_type": "code",
   "execution_count": null,
   "outputs": [],
   "source": [],
   "metadata": {
    "collapsed": false,
    "pycharm": {
     "name": "#%%\n",
     "is_executing": false
    }
   }
  },
  {
   "cell_type": "code",
   "execution_count": null,
   "outputs": [],
   "source": [],
   "metadata": {
    "collapsed": false,
    "pycharm": {
     "name": "#%%\n",
     "is_executing": false
    }
   }
  },
  {
   "cell_type": "code",
   "execution_count": null,
   "outputs": [],
   "source": [],
   "metadata": {
    "collapsed": false,
    "pycharm": {
     "name": "#%%\n",
     "is_executing": false
    }
   }
  }
 ],
 "metadata": {
  "kernelspec": {
   "display_name": "Python 3",
   "language": "python",
   "name": "python3"
  },
  "language_info": {
   "codemirror_mode": {
    "name": "ipython",
    "version": 2
   },
   "file_extension": ".py",
   "mimetype": "text/x-python",
   "name": "python",
   "nbconvert_exporter": "python",
   "pygments_lexer": "ipython2",
   "version": "2.7.6"
  },
  "pycharm": {
   "stem_cell": {
    "cell_type": "raw",
    "source": [],
    "metadata": {
     "collapsed": false
    }
   }
  }
 },
 "nbformat": 4,
 "nbformat_minor": 0
}